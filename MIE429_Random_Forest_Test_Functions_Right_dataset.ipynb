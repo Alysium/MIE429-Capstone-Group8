{
  "nbformat": 4,
  "nbformat_minor": 0,
  "metadata": {
    "colab": {
      "name": "MIE429_Random_Forest_Test_Functions_Right_dataset.ipynb",
      "provenance": [],
      "collapsed_sections": []
    },
    "kernelspec": {
      "name": "python3",
      "display_name": "Python 3"
    },
    "language_info": {
      "name": "python"
    }
  },
  "cells": [
    {
      "cell_type": "code",
      "metadata": {
        "id": "PRpDQgrIytbE"
      },
      "source": [
        "import pandas as pd\n",
        "from sklearn.ensemble import RandomForestRegressor\n",
        "from sklearn.tree import DecisionTreeRegressor, export_text\n",
        "import numpy as np\n",
        "from numpy import absolute, mean, std\n",
        "from sklearn.model_selection import cross_val_score\n",
        "from sklearn.model_selection import RepeatedKFold\n",
        "# from sklearn.neighbors import KNeighborsRegressor\n",
        "from sklearn.multioutput import RegressorChain\n",
        "from sklearn.svm import LinearSVR\n",
        "from sklearn.neural_network import MLPRegressor\n",
        "from scipy.optimize import minimize, NonlinearConstraint, LinearConstraint\n",
        "import matplotlib.pyplot as plt\n",
        "from sklearn.model_selection import train_test_split\n",
        "\n",
        "import warnings\n",
        "warnings.filterwarnings(\"ignore\")"
      ],
      "execution_count": null,
      "outputs": []
    },
    {
      "cell_type": "code",
      "metadata": {
        "id": "ce0rK2jt6YO7"
      },
      "source": [
        "# load data \n",
        "file_path = 'capstone.xlsx'\n",
        "def getData(file_path):\n",
        "    df = pd.read_excel (file_path)\n",
        "    ingredList = ['CB std (N-234)', 'GNP sample', 'Production Run time', ]\n",
        "    # mixer: 12-18, hightemp: 12 18\n",
        "    propList = ['300% Modulus ,Mpa', 'Tensile, MPa', 'Elongation, %', 'Durometer, Shore A', 'Tan d max @ 5%']\n",
        "\n",
        "    ingdf=df.loc[df['PAR921'].isin(ingredList)].iloc[:,2:20]\n",
        "    ingArr=np.asarray(ingdf)\n",
        "\n",
        "    propdf=df.loc[df['PAR921'].isin(propList)].iloc[:,2:20]\n",
        "    propArr = np.zeros((6,18))\n",
        "    propArr[0:5,:]=np.asarray(propdf)\n",
        "\n",
        "    # calc abrasion resistance\n",
        "    dG_row_over_dG_post_cure_row=df.iloc[134-2, 2::]/df.iloc[151-2, 2::]\n",
        "    reinfroce_index_value=df.iloc[101-2, 2::]/df.iloc[100-2, 2::]\n",
        "    hardness_row=df.iloc[106-2, 2::]\n",
        "    # print(reinfroce_index_value[0], reinfroce_index_value**2)\n",
        "    dG_row_over_dG_post_cure_row\n",
        "    mid_equal = hardness_row/ ((dG_row_over_dG_post_cure_row**0.5)*(reinfroce_index_value**2))\n",
        "    abrasion=mid_equal*0.0396 -1.6907\n",
        "    abrasion_row = np.asarray(abrasion.iloc[0:18])\n",
        "    propArr[5] = abrasion_row\n",
        "\n",
        "    # add temp and mixer in (0,1), [3]high temp is 1 [4]1.6L mixer is also 1\n",
        "    ingActArr = np.zeros((5,18))\n",
        "    ingActArr[0:3,:]=ingArr\n",
        "    ingActArr[3, 11:18]=1\n",
        "    ingActArr[4,11]=1\n",
        "    ingActArr[4,17]=1\n",
        "    # convert nan to 0 \n",
        "    ingActArr[np.isnan(ingActArr)] = 0\n",
        "    # exclude slica col 17\n",
        "    # assume production runtime = 0 \n",
        "    X=np.transpose(ingActArr)\n",
        "    y=np.transpose(propArr)\n",
        "    return X,y\n",
        "\n",
        "def normalize(X, y):\n",
        "    X_normalized = (X-np.min(X, axis=0))/(np.max(X, axis=0)-np.min(X, axis=0))\n",
        "    y_normalized=(y-np.min(y, axis=0))/(np.max(y, axis=0)-np.min(y, axis=0))\n",
        "    return X_normalized, y_normalized\n",
        "\n",
        "def split(X,y, test_size):\n",
        "    X_train, X_test, y_train, y_test = train_test_split(X, y, test_size=test_size, random_state=42)\n",
        "    return X_train, X_test, y_train, y_test\n",
        "\n",
        "X, y =getData(file_path) \n",
        "X_normalized, y_normalized = normalize(X, y)\n",
        "X_train, X_test, y_train, y_test= split(X,y, test_size=0.33) # 12, 6"
      ],
      "execution_count": null,
      "outputs": []
    },
    {
      "cell_type": "code",
      "metadata": {
        "colab": {
          "base_uri": "https://localhost:8080/"
        },
        "id": "hjZXs1XL6upr",
        "outputId": "29a4f233-d15e-4c36-d41f-2ca2abc6d91e"
      },
      "source": [
        "X"
      ],
      "execution_count": null,
      "outputs": [
        {
          "output_type": "execute_result",
          "data": {
            "text/plain": [
              "array([[ 60.,   0.,   0.,   0.,   0.],\n",
              "       [ 33.,   3., 128.,   0.,   0.],\n",
              "       [ 30.,   6., 128.,   0.,   0.],\n",
              "       [ 27.,   9., 128.,   0.,   0.],\n",
              "       [ 36.,   0.,   0.,   0.,   0.],\n",
              "       [ 40.,  10., 128.,   0.,   0.],\n",
              "       [ 35.,  15., 128.,   0.,   0.],\n",
              "       [ 45.,   0.,   0.,   0.,   0.],\n",
              "       [ 45.,  15., 128.,   0.,   0.],\n",
              "       [ 45.,  15., 193.,   0.,   0.],\n",
              "       [ 45.,  15., 500.,   0.,   0.],\n",
              "       [ 45.,  15., 193.,   1.,   1.],\n",
              "       [ 45.,  15., 193.,   1.,   0.],\n",
              "       [ 45.,  15., 128.,   1.,   0.],\n",
              "       [ 45.,  15., 500.,   1.,   0.],\n",
              "       [ 60.,   0.,   0.,   1.,   0.],\n",
              "       [  5.,   0.,   0.,   1.,   0.],\n",
              "       [ 60.,  15., 193.,   1.,   1.]])"
            ]
          },
          "metadata": {},
          "execution_count": 3
        }
      ]
    },
    {
      "cell_type": "code",
      "metadata": {
        "colab": {
          "base_uri": "https://localhost:8080/"
        },
        "id": "yXYveQl4H6sG",
        "outputId": "d68649e3-494d-437c-8417-3291fce822a1"
      },
      "source": [
        "X_normalized"
      ],
      "execution_count": null,
      "outputs": [
        {
          "output_type": "execute_result",
          "data": {
            "text/plain": [
              "array([[1.        , 0.        , 0.        , 0.        , 0.        ],\n",
              "       [0.50909091, 0.2       , 0.256     , 0.        , 0.        ],\n",
              "       [0.45454545, 0.4       , 0.256     , 0.        , 0.        ],\n",
              "       [0.4       , 0.6       , 0.256     , 0.        , 0.        ],\n",
              "       [0.56363636, 0.        , 0.        , 0.        , 0.        ],\n",
              "       [0.63636364, 0.66666667, 0.256     , 0.        , 0.        ],\n",
              "       [0.54545455, 1.        , 0.256     , 0.        , 0.        ],\n",
              "       [0.72727273, 0.        , 0.        , 0.        , 0.        ],\n",
              "       [0.72727273, 1.        , 0.256     , 0.        , 0.        ],\n",
              "       [0.72727273, 1.        , 0.386     , 0.        , 0.        ],\n",
              "       [0.72727273, 1.        , 1.        , 0.        , 0.        ],\n",
              "       [0.72727273, 1.        , 0.386     , 1.        , 1.        ],\n",
              "       [0.72727273, 1.        , 0.386     , 1.        , 0.        ],\n",
              "       [0.72727273, 1.        , 0.256     , 1.        , 0.        ],\n",
              "       [0.72727273, 1.        , 1.        , 1.        , 0.        ],\n",
              "       [1.        , 0.        , 0.        , 1.        , 0.        ],\n",
              "       [0.        , 0.        , 0.        , 1.        , 0.        ],\n",
              "       [1.        , 1.        , 0.386     , 1.        , 1.        ]])"
            ]
          },
          "metadata": {},
          "execution_count": 4
        }
      ]
    },
    {
      "cell_type": "code",
      "metadata": {
        "colab": {
          "base_uri": "https://localhost:8080/"
        },
        "id": "6PuuwzK_6D2X",
        "outputId": "c9b1294e-0f4d-48f1-8c50-cdc1c85549f3"
      },
      "source": [
        "y"
      ],
      "execution_count": null,
      "outputs": [
        {
          "output_type": "execute_result",
          "data": {
            "text/plain": [
              "array([[ 1.51240000e+01,  2.06650000e+01,  3.86930000e+02,\n",
              "         7.20000000e+01,  2.82000000e-01, -1.62588160e+00],\n",
              "       [ 5.97400000e+00,  1.99330000e+01,  6.08320000e+02,\n",
              "         5.90000000e+01,  1.60000000e-01, -1.62379289e+00],\n",
              "       [ 5.39000000e+00,  1.96550000e+01,  6.35960000e+02,\n",
              "         5.70000000e+01,  1.48000000e-01, -1.61777323e+00],\n",
              "       [ 5.33000000e+00,  1.92300000e+01,  6.41330000e+02,\n",
              "         5.60000000e+01,  1.48000000e-01, -1.61442393e+00],\n",
              "       [ 6.50000000e+00,  1.90100000e+01,  5.66260000e+02,\n",
              "         6.00000000e+01,  1.45000000e-01, -1.63006097e+00],\n",
              "       [ 7.60000000e+00,  2.05600000e+01,  6.02410000e+02,\n",
              "         6.30000000e+01,  2.10000000e-01, -1.61214543e+00],\n",
              "       [ 6.92000000e+00,  2.04000000e+01,  6.49900000e+02,\n",
              "         6.20000000e+01,  2.08000000e-01, -1.60439439e+00],\n",
              "       [ 8.78000000e+00,  2.06040000e+01,  5.14040000e+02,\n",
              "         6.30000000e+01,  1.98000000e-01, -1.64413036e+00],\n",
              "       [ 8.83400000e+00,  2.33540000e+01,  6.37450000e+02,\n",
              "         6.60000000e+01,  2.49000000e-01, -1.60306585e+00],\n",
              "       [ 9.16000000e+00,  2.46800000e+01,  6.25130000e+02,\n",
              "         6.60000000e+01,  2.40000000e-01, -1.60759857e+00],\n",
              "       [ 5.93000000e+00,  1.59600000e+01,  6.51930000e+02,\n",
              "         6.70000000e+01,  3.18000000e-01, -1.57953853e+00],\n",
              "       [ 1.38800000e+01,  2.28820000e+01,  4.41080000e+02,\n",
              "         6.50000000e+01,  1.78000000e-01, -1.62526645e+00],\n",
              "       [ 1.07700000e+01,  2.23200000e+01,  5.22770000e+02,\n",
              "         6.70000000e+01,  2.22000000e-01, -1.61211715e+00],\n",
              "       [ 9.18000000e+00,  2.23700000e+01,  5.99050000e+02,\n",
              "         6.60000000e+01,  2.45000000e-01, -1.61472798e+00],\n",
              "       [ 9.95000000e+00,  2.16700000e+01,  5.39170000e+02,\n",
              "         6.80000000e+01,  2.62000000e-01, -1.62398154e+00],\n",
              "       [ 1.36400000e+01,  2.28400000e+01,  4.33440000e+02,\n",
              "         6.90000000e+01,  2.63000000e-01, -1.64098399e+00],\n",
              "       [ 6.79000000e+00,  2.25600000e+01,  6.71780000e+02,\n",
              "         6.60000000e+01,  2.32000000e-01, -1.62198700e+00],\n",
              "       [ 1.45500000e+01,  2.31600000e+01,  4.28860000e+02,\n",
              "         7.00000000e+01,  2.46000000e-01, -1.64820722e+00]])"
            ]
          },
          "metadata": {},
          "execution_count": 5
        }
      ]
    },
    {
      "cell_type": "code",
      "metadata": {
        "colab": {
          "base_uri": "https://localhost:8080/"
        },
        "id": "bNJ9XcbfJtQa",
        "outputId": "5fd24bf9-f027-4bf3-9b2a-17381c836ee6"
      },
      "source": [
        "y_normalized"
      ],
      "execution_count": null,
      "outputs": [
        {
          "output_type": "execute_result",
          "data": {
            "text/plain": [
              "array([[1.        , 0.53956422, 0.        , 1.        , 0.79190751,\n",
              "        0.3251208 ],\n",
              "       [0.06575454, 0.45561927, 0.77721608, 0.1875    , 0.0867052 ,\n",
              "        0.35553793],\n",
              "       [0.0061262 , 0.42373853, 0.87424961, 0.0625    , 0.01734104,\n",
              "        0.44320036],\n",
              "       [0.        , 0.375     , 0.89310163, 0.        , 0.01734104,\n",
              "        0.49197514],\n",
              "       [0.11946089, 0.34977064, 0.62955942, 0.25      , 0.        ,\n",
              "        0.264258  ],\n",
              "       [0.23177456, 0.52752294, 0.75646832, 0.4375    , 0.37572254,\n",
              "        0.52515623],\n",
              "       [0.16234429, 0.50917431, 0.92318764, 0.375     , 0.36416185,\n",
              "        0.63803206],\n",
              "       [0.35225648, 0.53256881, 0.44623486, 0.4375    , 0.30635838,\n",
              "        0.05936999],\n",
              "       [0.35777006, 0.84793578, 0.87948043, 0.625     , 0.60115607,\n",
              "        0.65737921],\n",
              "       [0.39105575, 1.        , 0.83622959, 0.625     , 0.54913295,\n",
              "        0.59137058],\n",
              "       [0.061262  , 0.        , 0.9303142 , 0.6875    , 1.        ,\n",
              "        1.        ],\n",
              "       [0.87298346, 0.79380734, 0.19010005, 0.5625    , 0.19075145,\n",
              "        0.33407902],\n",
              "       [0.55544211, 0.7293578 , 0.47688257, 0.6875    , 0.44508671,\n",
              "        0.52556802],\n",
              "       [0.39309781, 0.73509174, 0.74467263, 0.625     , 0.57803468,\n",
              "        0.48754729],\n",
              "       [0.47171738, 0.65481651, 0.53445673, 0.75      , 0.67630058,\n",
              "        0.35279069],\n",
              "       [0.84847866, 0.78899083, 0.16327892, 0.8125    , 0.68208092,\n",
              "        0.10518945],\n",
              "       [0.14907086, 0.75688073, 1.        , 0.625     , 0.50289017,\n",
              "        0.38183651],\n",
              "       [0.94139269, 0.82568807, 0.14720028, 0.875     , 0.58381503,\n",
              "        0.        ]])"
            ]
          },
          "metadata": {},
          "execution_count": 6
        }
      ]
    },
    {
      "cell_type": "code",
      "metadata": {
        "colab": {
          "base_uri": "https://localhost:8080/"
        },
        "id": "7Jcvw3qmEJ9x",
        "outputId": "87c9b5fd-0c46-4a3c-9a3b-75e5b8241846"
      },
      "source": [
        "# Build multi-output RF model\n",
        "model_1 = DecisionTreeRegressor(splitter='random', max_depth=3, min_samples_leaf=5)\n",
        "model_1.fit(X_normalized, y_normalized)\n",
        "yhat = model_1.predict([X_normalized[16, :]])\n",
        "print('Prediction: ', yhat)"
      ],
      "execution_count": null,
      "outputs": [
        {
          "output_type": "stream",
          "name": "stdout",
          "text": [
            "Prediction:  [[0.07665918 0.50408257 0.89355099 0.25       0.19768786 0.4621164 ]]\n"
          ]
        }
      ]
    },
    {
      "cell_type": "markdown",
      "metadata": {
        "id": "kK3HBGdqGB8t"
      },
      "source": [
        "Prediction:  [[0.06575454 0.45561927 0.77721608 0.1875     0.0867052 ]] for 5"
      ]
    },
    {
      "cell_type": "markdown",
      "metadata": {
        "id": "qMuMdQJ7ISpR"
      },
      "source": [
        "Prediction:  [[0.         0.375      0.89310163 0.         0.01734104]] for 10 and random"
      ]
    },
    {
      "cell_type": "markdown",
      "metadata": {
        "id": "m7qR6J1oINuk"
      },
      "source": [
        "Prediction:  [[0.06575454 0.45561927 0.77721608 0.1875     0.0867052 ]] for 3, random"
      ]
    },
    {
      "cell_type": "markdown",
      "metadata": {
        "id": "muJX_OA3Inpw"
      },
      "source": [
        "Prediction:  [[0.30871962 0.46025229 0.54545199 0.3875     0.24046243]] for 3, min sample leaf 5, and random"
      ]
    },
    {
      "cell_type": "code",
      "metadata": {
        "colab": {
          "base_uri": "https://localhost:8080/"
        },
        "id": "9mBNiKgPR-8t",
        "outputId": "3e1349a1-162b-4c8c-da26-b05026b7aa82"
      },
      "source": [
        "model_2 = DecisionTreeRegressor(max_depth=10, splitter='random', min_samples_leaf=5)\n",
        "model_2.fit(X_normalized, y_normalized)\n",
        "yhat_2 = model_2.predict([X_normalized[16, :]])\n",
        "cv = RepeatedKFold(n_splits=18, n_repeats=3, random_state=1)\n",
        "n_scores = cross_val_score(model_2, X_normalized, y_normalized, scoring='neg_mean_absolute_error', cv=cv, n_jobs=-1)\n",
        "# n_scores = absolute(n_scores)\n",
        "print('MAE: %.3f (%.3f)' % (mean(n_scores), std(n_scores)))\n",
        "print(yhat_2)"
      ],
      "execution_count": null,
      "outputs": [
        {
          "output_type": "stream",
          "name": "stdout",
          "text": [
            "MAE: -0.202 (0.109)\n",
            "[[0.60459757 0.75494758 0.46522731 0.70535714 0.52270851 0.31243014]]\n"
          ]
        }
      ]
    },
    {
      "cell_type": "code",
      "metadata": {
        "id": "RIpS9vLXVxlL"
      },
      "source": [
        "def viewing_diff_trees(inputs_df, outputs_df, leaf_num=5, depth_num=10, visualize=True, should_print=True):\n",
        "    model_test = DecisionTreeRegressor(max_depth=depth_num, splitter='random', min_samples_leaf=leaf_num)\n",
        "    model_test.fit(inputs_df, outputs_df)\n",
        "    yhat_2 = model_test.predict([inputs_df[16, :]])\n",
        "    cv = RepeatedKFold(n_splits=18, n_repeats=3, random_state=1)\n",
        "    n_scores = cross_val_score(model_test, inputs_df, outputs_df, scoring='neg_mean_absolute_error', cv=cv, n_jobs=-1)\n",
        "    # n_scores = absolute(n_scores)\n",
        "    if should_print:\n",
        "        print('MAE: %.3f (%.3f)' % (mean(n_scores), std(n_scores)))\n",
        "        print(yhat_2)\n",
        "    if visualize:\n",
        "        text_representation_test = export_text(model_test)\n",
        "        print(text_representation_test)\n",
        "    return (mean(n_scores), std(n_scores))"
      ],
      "execution_count": null,
      "outputs": []
    },
    {
      "cell_type": "code",
      "metadata": {
        "id": "_TYNlcirYNcv"
      },
      "source": [
        "def viewing_diff_models(inputs_df, outputs_df, model_test, is_tree=False):\n",
        "    model_test.fit(inputs_df, outputs_df)\n",
        "    yhat_2 = model_test.predict([inputs_df[16, :]])\n",
        "    cv = RepeatedKFold(n_splits=18, n_repeats=3, random_state=1)\n",
        "    n_scores = cross_val_score(model_test, inputs_df, outputs_df, scoring='neg_mean_absolute_error', cv=cv, n_jobs=-1)\n",
        "    # n_scores = absolute(n_scores)\n",
        "    print('MAE: %.3f (%.3f)' % (mean(n_scores), std(n_scores)))\n",
        "    print(yhat_2)\n",
        "    if is_tree:\n",
        "        text_representation_test = export_text(model_test)\n",
        "        print(text_representation_test)"
      ],
      "execution_count": null,
      "outputs": []
    },
    {
      "cell_type": "code",
      "metadata": {
        "id": "0huvYW7aGVTa"
      },
      "source": [
        ""
      ],
      "execution_count": null,
      "outputs": []
    },
    {
      "cell_type": "code",
      "metadata": {
        "colab": {
          "base_uri": "https://localhost:8080/"
        },
        "id": "1-iAbzEj33KR",
        "outputId": "cdc9c0e7-6e1b-4ea6-a65d-598f328da57a"
      },
      "source": [
        "viewing_diff_trees(X, y, leaf_num=2, depth_num=5)"
      ],
      "execution_count": null,
      "outputs": [
        {
          "output_type": "stream",
          "name": "stdout",
          "text": [
            "MAE: -9.764 (7.854)\n",
            "[[ 6.64500000e+00  2.07850000e+01  6.19020000e+02  6.30000000e+01\n",
            "   1.88500000e-01 -1.62602398e+00]]\n",
            "|--- feature_4 <= 0.83\n",
            "|   |--- feature_0 <= 43.82\n",
            "|   |   |--- feature_2 <= 64.36\n",
            "|   |   |   |--- value: [6.64, 20.79, 619.02, 63.00, 0.19, -1.63]\n",
            "|   |   |--- feature_2 >  64.36\n",
            "|   |   |   |--- value: [6.24, 19.96, 627.58, 59.40, 0.17, -1.61]\n",
            "|   |--- feature_0 >  43.82\n",
            "|   |   |--- feature_0 <= 45.27\n",
            "|   |   |   |--- feature_3 <= 0.55\n",
            "|   |   |   |   |--- value: [8.18, 21.15, 607.14, 65.50, 0.25, -1.61]\n",
            "|   |   |   |--- feature_3 >  0.55\n",
            "|   |   |   |   |--- value: [9.97, 22.12, 553.66, 67.00, 0.24, -1.62]\n",
            "|   |   |--- feature_0 >  45.27\n",
            "|   |   |   |--- value: [14.38, 21.75, 410.19, 70.50, 0.27, -1.63]\n",
            "|--- feature_4 >  0.83\n",
            "|   |--- value: [14.21, 23.02, 434.97, 67.50, 0.21, -1.64]\n",
            "\n"
          ]
        },
        {
          "output_type": "execute_result",
          "data": {
            "text/plain": [
              "(-9.7635836121869, 7.854087349476836)"
            ]
          },
          "metadata": {},
          "execution_count": 11
        }
      ]
    },
    {
      "cell_type": "code",
      "metadata": {
        "colab": {
          "base_uri": "https://localhost:8080/"
        },
        "id": "ATc-FFc4UY-u",
        "outputId": "a8406918-11b1-424d-9309-13322668d908"
      },
      "source": [
        "viewing_diff_trees(X_normalized, y_normalized, leaf_num=2, depth_num=5)"
      ],
      "execution_count": null,
      "outputs": [
        {
          "output_type": "stream",
          "name": "stdout",
          "text": [
            "MAE: -0.184 (0.097)\n",
            "[[0.49877476 0.77293578 0.58163946 0.71875    0.59248555 0.24351298]]\n",
            "|--- feature_3 <= 0.11\n",
            "|   |--- feature_1 <= 0.26\n",
            "|   |   |--- feature_0 <= 0.60\n",
            "|   |   |   |--- value: [0.09, 0.40, 0.70, 0.22, 0.04, 0.31]\n",
            "|   |   |--- feature_0 >  0.60\n",
            "|   |   |   |--- value: [0.68, 0.54, 0.22, 0.72, 0.55, 0.19]\n",
            "|   |--- feature_1 >  0.26\n",
            "|   |   |--- feature_0 <= 0.46\n",
            "|   |   |   |--- value: [0.00, 0.40, 0.88, 0.03, 0.02, 0.47]\n",
            "|   |   |--- feature_0 >  0.46\n",
            "|   |   |   |--- feature_0 <= 0.72\n",
            "|   |   |   |   |--- value: [0.20, 0.52, 0.84, 0.41, 0.37, 0.58]\n",
            "|   |   |   |--- feature_0 >  0.72\n",
            "|   |   |   |   |--- value: [0.27, 0.62, 0.88, 0.65, 0.72, 0.75]\n",
            "|--- feature_3 >  0.11\n",
            "|   |--- feature_4 <= 0.20\n",
            "|   |   |--- feature_1 <= 0.63\n",
            "|   |   |   |--- value: [0.50, 0.77, 0.58, 0.72, 0.59, 0.24]\n",
            "|   |   |--- feature_1 >  0.63\n",
            "|   |   |   |--- value: [0.47, 0.71, 0.59, 0.69, 0.57, 0.46]\n",
            "|   |--- feature_4 >  0.20\n",
            "|   |   |--- value: [0.91, 0.81, 0.17, 0.72, 0.39, 0.17]\n",
            "\n"
          ]
        },
        {
          "output_type": "execute_result",
          "data": {
            "text/plain": [
              "(-0.1840405278592968, 0.09714378912025984)"
            ]
          },
          "metadata": {},
          "execution_count": 12
        }
      ]
    },
    {
      "cell_type": "code",
      "metadata": {
        "colab": {
          "base_uri": "https://localhost:8080/"
        },
        "id": "ww0evrg1WTtk",
        "outputId": "b3f366f1-3e98-4e6a-a5a8-dff7602c1a9f"
      },
      "source": [
        "viewing_diff_trees(X_normalized, y_normalized, leaf_num=1, depth_num=5)"
      ],
      "execution_count": null,
      "outputs": [
        {
          "output_type": "stream",
          "name": "stdout",
          "text": [
            "MAE: -0.188 (0.108)\n",
            "[[0.14907086 0.75688073 1.         0.625      0.50289017 0.38183651]]\n",
            "|--- feature_0 <= 0.99\n",
            "|   |--- feature_3 <= 0.52\n",
            "|   |   |--- feature_2 <= 0.29\n",
            "|   |   |   |--- feature_0 <= 0.53\n",
            "|   |   |   |   |--- feature_0 <= 0.50\n",
            "|   |   |   |   |   |--- value: [0.00, 0.40, 0.88, 0.03, 0.02, 0.47]\n",
            "|   |   |   |   |--- feature_0 >  0.50\n",
            "|   |   |   |   |   |--- value: [0.07, 0.46, 0.78, 0.19, 0.09, 0.36]\n",
            "|   |   |   |--- feature_0 >  0.53\n",
            "|   |   |   |   |--- feature_1 <= 0.08\n",
            "|   |   |   |   |   |--- value: [0.24, 0.44, 0.54, 0.34, 0.15, 0.16]\n",
            "|   |   |   |   |--- feature_1 >  0.08\n",
            "|   |   |   |   |   |--- value: [0.25, 0.63, 0.85, 0.48, 0.45, 0.61]\n",
            "|   |   |--- feature_2 >  0.29\n",
            "|   |   |   |--- feature_2 <= 0.69\n",
            "|   |   |   |   |--- value: [0.39, 1.00, 0.84, 0.62, 0.55, 0.59]\n",
            "|   |   |   |--- feature_2 >  0.69\n",
            "|   |   |   |   |--- value: [0.06, 0.00, 0.93, 0.69, 1.00, 1.00]\n",
            "|   |--- feature_3 >  0.52\n",
            "|   |   |--- feature_4 <= 0.56\n",
            "|   |   |   |--- feature_0 <= 0.17\n",
            "|   |   |   |   |--- value: [0.15, 0.76, 1.00, 0.62, 0.50, 0.38]\n",
            "|   |   |   |--- feature_0 >  0.17\n",
            "|   |   |   |   |--- feature_2 <= 0.71\n",
            "|   |   |   |   |   |--- value: [0.47, 0.73, 0.61, 0.66, 0.51, 0.51]\n",
            "|   |   |   |   |--- feature_2 >  0.71\n",
            "|   |   |   |   |   |--- value: [0.47, 0.65, 0.53, 0.75, 0.68, 0.35]\n",
            "|   |   |--- feature_4 >  0.56\n",
            "|   |   |   |--- value: [0.87, 0.79, 0.19, 0.56, 0.19, 0.33]\n",
            "|--- feature_0 >  0.99\n",
            "|   |--- feature_3 <= 0.11\n",
            "|   |   |--- value: [1.00, 0.54, 0.00, 1.00, 0.79, 0.33]\n",
            "|   |--- feature_3 >  0.11\n",
            "|   |   |--- feature_4 <= 0.27\n",
            "|   |   |   |--- value: [0.85, 0.79, 0.16, 0.81, 0.68, 0.11]\n",
            "|   |   |--- feature_4 >  0.27\n",
            "|   |   |   |--- value: [0.94, 0.83, 0.15, 0.88, 0.58, 0.00]\n",
            "\n"
          ]
        },
        {
          "output_type": "execute_result",
          "data": {
            "text/plain": [
              "(-0.187669399191563, 0.10835640601152871)"
            ]
          },
          "metadata": {},
          "execution_count": 13
        }
      ]
    },
    {
      "cell_type": "code",
      "metadata": {
        "colab": {
          "base_uri": "https://localhost:8080/"
        },
        "id": "df1AGrgTadew",
        "outputId": "215fbb83-53e8-4840-d621-455a71ef7921"
      },
      "source": [
        "viewing_diff_trees(X_normalized, y_normalized, leaf_num=1, depth_num=10)"
      ],
      "execution_count": null,
      "outputs": [
        {
          "output_type": "stream",
          "name": "stdout",
          "text": [
            "MAE: -0.172 (0.101)\n",
            "[[0.14907086 0.75688073 1.         0.625      0.50289017 0.38183651]]\n",
            "|--- feature_3 <= 0.35\n",
            "|   |--- feature_0 <= 0.53\n",
            "|   |   |--- feature_1 <= 0.26\n",
            "|   |   |   |--- value: [0.07, 0.46, 0.78, 0.19, 0.09, 0.36]\n",
            "|   |   |--- feature_1 >  0.26\n",
            "|   |   |   |--- feature_1 <= 0.46\n",
            "|   |   |   |   |--- value: [0.01, 0.42, 0.87, 0.06, 0.02, 0.44]\n",
            "|   |   |   |--- feature_1 >  0.46\n",
            "|   |   |   |   |--- value: [0.00, 0.38, 0.89, 0.00, 0.02, 0.49]\n",
            "|   |--- feature_0 >  0.53\n",
            "|   |   |--- feature_0 <= 0.78\n",
            "|   |   |   |--- feature_1 <= 0.42\n",
            "|   |   |   |   |--- feature_0 <= 0.61\n",
            "|   |   |   |   |   |--- value: [0.12, 0.35, 0.63, 0.25, 0.00, 0.26]\n",
            "|   |   |   |   |--- feature_0 >  0.61\n",
            "|   |   |   |   |   |--- value: [0.35, 0.53, 0.45, 0.44, 0.31, 0.06]\n",
            "|   |   |   |--- feature_1 >  0.42\n",
            "|   |   |   |   |--- feature_2 <= 0.93\n",
            "|   |   |   |   |   |--- feature_2 <= 0.29\n",
            "|   |   |   |   |   |   |--- feature_0 <= 0.68\n",
            "|   |   |   |   |   |   |   |--- feature_0 <= 0.56\n",
            "|   |   |   |   |   |   |   |   |--- value: [0.16, 0.51, 0.92, 0.38, 0.36, 0.64]\n",
            "|   |   |   |   |   |   |   |--- feature_0 >  0.56\n",
            "|   |   |   |   |   |   |   |   |--- value: [0.23, 0.53, 0.76, 0.44, 0.38, 0.53]\n",
            "|   |   |   |   |   |   |--- feature_0 >  0.68\n",
            "|   |   |   |   |   |   |   |--- value: [0.36, 0.85, 0.88, 0.62, 0.60, 0.66]\n",
            "|   |   |   |   |   |--- feature_2 >  0.29\n",
            "|   |   |   |   |   |   |--- value: [0.39, 1.00, 0.84, 0.62, 0.55, 0.59]\n",
            "|   |   |   |   |--- feature_2 >  0.93\n",
            "|   |   |   |   |   |--- value: [0.06, 0.00, 0.93, 0.69, 1.00, 1.00]\n",
            "|   |   |--- feature_0 >  0.78\n",
            "|   |   |   |--- value: [1.00, 0.54, 0.00, 1.00, 0.79, 0.33]\n",
            "|--- feature_3 >  0.35\n",
            "|   |--- feature_4 <= 0.21\n",
            "|   |   |--- feature_0 <= 0.71\n",
            "|   |   |   |--- value: [0.15, 0.76, 1.00, 0.62, 0.50, 0.38]\n",
            "|   |   |--- feature_0 >  0.71\n",
            "|   |   |   |--- feature_1 <= 0.12\n",
            "|   |   |   |   |--- value: [0.85, 0.79, 0.16, 0.81, 0.68, 0.11]\n",
            "|   |   |   |--- feature_1 >  0.12\n",
            "|   |   |   |   |--- feature_2 <= 0.30\n",
            "|   |   |   |   |   |--- value: [0.39, 0.74, 0.74, 0.62, 0.58, 0.49]\n",
            "|   |   |   |   |--- feature_2 >  0.30\n",
            "|   |   |   |   |   |--- feature_2 <= 0.81\n",
            "|   |   |   |   |   |   |--- value: [0.56, 0.73, 0.48, 0.69, 0.45, 0.53]\n",
            "|   |   |   |   |   |--- feature_2 >  0.81\n",
            "|   |   |   |   |   |   |--- value: [0.47, 0.65, 0.53, 0.75, 0.68, 0.35]\n",
            "|   |--- feature_4 >  0.21\n",
            "|   |   |--- feature_0 <= 0.76\n",
            "|   |   |   |--- value: [0.87, 0.79, 0.19, 0.56, 0.19, 0.33]\n",
            "|   |   |--- feature_0 >  0.76\n",
            "|   |   |   |--- value: [0.94, 0.83, 0.15, 0.88, 0.58, 0.00]\n",
            "\n"
          ]
        },
        {
          "output_type": "execute_result",
          "data": {
            "text/plain": [
              "(-0.17222597251473612, 0.10097021655292238)"
            ]
          },
          "metadata": {},
          "execution_count": 14
        }
      ]
    },
    {
      "cell_type": "code",
      "metadata": {
        "colab": {
          "base_uri": "https://localhost:8080/"
        },
        "id": "LMcanyOhaj5b",
        "outputId": "4adadb51-8afa-44cb-a88c-4c0faa964ed4"
      },
      "source": [
        "viewing_diff_trees(X_normalized, y_normalized, leaf_num=2, depth_num=5)"
      ],
      "execution_count": null,
      "outputs": [
        {
          "output_type": "stream",
          "name": "stdout",
          "text": [
            "MAE: -0.192 (0.107)\n",
            "[[0.20692941 0.54640673 0.69193143 0.4375     0.26974952 0.23515483]]\n",
            "|--- feature_0 <= 0.88\n",
            "|   |--- feature_1 <= 0.97\n",
            "|   |   |--- feature_2 <= 0.24\n",
            "|   |   |   |--- value: [0.21, 0.55, 0.69, 0.44, 0.27, 0.24]\n",
            "|   |   |--- feature_2 >  0.24\n",
            "|   |   |   |--- value: [0.08, 0.45, 0.83, 0.17, 0.12, 0.45]\n",
            "|   |--- feature_1 >  0.97\n",
            "|   |   |--- feature_3 <= 0.72\n",
            "|   |   |   |--- value: [0.24, 0.59, 0.89, 0.58, 0.63, 0.72]\n",
            "|   |   |--- feature_3 >  0.72\n",
            "|   |   |   |--- value: [0.57, 0.73, 0.49, 0.66, 0.47, 0.42]\n",
            "|--- feature_0 >  0.88\n",
            "|   |--- value: [0.93, 0.72, 0.10, 0.90, 0.69, 0.14]\n",
            "\n"
          ]
        },
        {
          "output_type": "execute_result",
          "data": {
            "text/plain": [
              "(-0.19183621397208983, 0.10689625165193212)"
            ]
          },
          "metadata": {},
          "execution_count": 15
        }
      ]
    },
    {
      "cell_type": "code",
      "metadata": {
        "colab": {
          "base_uri": "https://localhost:8080/"
        },
        "id": "LldoKg4var4Z",
        "outputId": "96900181-8fa2-4170-b5c5-2be3449c773e"
      },
      "source": [
        "mean_list = []\n",
        "std_list = []\n",
        "count_list = []\n",
        "for leaf_count in range(1, 8):\n",
        "    for depth_count in range(3, 15):\n",
        "        output_mean, output_std = viewing_diff_trees(X_normalized, y_normalized, leaf_num=leaf_count, depth_num=depth_count, visualize=False, should_print=False)\n",
        "        count_list.append((leaf_count, depth_count))\n",
        "        mean_list.append(output_mean)\n",
        "        std_list.append(output_std)\n",
        "print(max(mean_list), mean_list.index(max(mean_list)))\n",
        "print(count_list[mean_list.index(max(mean_list))])"
      ],
      "execution_count": null,
      "outputs": [
        {
          "output_type": "stream",
          "name": "stdout",
          "text": [
            "-0.167357741472163 7\n",
            "(1, 10)\n"
          ]
        }
      ]
    },
    {
      "cell_type": "code",
      "metadata": {
        "colab": {
          "base_uri": "https://localhost:8080/"
        },
        "id": "boRdk99bWTrf",
        "outputId": "0cb5d483-ff5d-47eb-ec76-55e1852433ac"
      },
      "source": [
        "model_linear_SVR = LinearSVR()\n",
        "wrapper = RegressorChain(model_linear_SVR)\n",
        "viewing_diff_models(X_normalized, y_normalized, wrapper)"
      ],
      "execution_count": null,
      "outputs": [
        {
          "output_type": "stream",
          "name": "stdout",
          "text": [
            "MAE: -0.161 (0.127)\n",
            "[[ 0.14907086  0.62861608  0.71270615  0.07207727 -0.04016013  0.1595782 ]]\n"
          ]
        }
      ]
    },
    {
      "cell_type": "code",
      "metadata": {
        "colab": {
          "base_uri": "https://localhost:8080/"
        },
        "id": "WI9UeNAd4Zlh",
        "outputId": "5503539f-073a-4dce-a20e-634b1fc964a5"
      },
      "source": [
        "# Build multi-output RF model\n",
        "model_mlp = MLPRegressor(hidden_layer_sizes=(3)) #, activation='logistic')\n",
        "model_mlp.fit(X_normalized[:15, :], y_normalized[:15])\n",
        "yhat = model_mlp.predict([X_normalized[16, :]])\n",
        "print('Prediction: ', yhat)\n",
        "cv = RepeatedKFold(n_splits=18, n_repeats=3, random_state=1)\n",
        "n_scores = cross_val_score(model_mlp, X_normalized, y_normalized, scoring='neg_mean_absolute_error', cv=cv, n_jobs=-1)\n",
        "# n_scores = absolute(n_scores)\n",
        "print('MAE: %.3f (%.3f)' % (mean(n_scores), std(n_scores)))"
      ],
      "execution_count": null,
      "outputs": [
        {
          "output_type": "stream",
          "name": "stdout",
          "text": [
            "Prediction:  [[ 0.55101136 -0.08898891  0.22525867 -0.37688762 -0.58561499  0.3885322 ]]\n",
            "MAE: -0.452 (0.173)\n"
          ]
        }
      ]
    },
    {
      "cell_type": "code",
      "metadata": {
        "colab": {
          "base_uri": "https://localhost:8080/"
        },
        "id": "T_U-LfCv4ZjL",
        "outputId": "b03e5585-3756-4f06-a9e1-d22d0b6eed43"
      },
      "source": [
        "# Build multi-output RF model\n",
        "model_mlp = MLPRegressor(hidden_layer_sizes=(2))\n",
        "model_mlp.fit(X_normalized[:15, :], y_normalized[:15])\n",
        "yhat = model_mlp.predict([X_normalized[16, :]])\n",
        "print('Prediction: ', yhat)\n",
        "cv = RepeatedKFold(n_splits=18, n_repeats=3, random_state=1)\n",
        "n_scores = cross_val_score(model_mlp, X_normalized, y_normalized, scoring='neg_mean_absolute_error', cv=cv, n_jobs=-1)\n",
        "# n_scores = absolute(n_scores)\n",
        "print('MAE: %.3f (%.3f)' % (mean(n_scores), std(n_scores)))\n",
        "print(yhat)"
      ],
      "execution_count": null,
      "outputs": [
        {
          "output_type": "stream",
          "name": "stdout",
          "text": [
            "Prediction:  [[ 0.28318893 -0.56830386 -0.26903258 -0.47840881  0.49848426  0.65681426]]\n",
            "MAE: -0.491 (0.248)\n",
            "[[ 0.28318893 -0.56830386 -0.26903258 -0.47840881  0.49848426  0.65681426]]\n"
          ]
        }
      ]
    },
    {
      "cell_type": "markdown",
      "metadata": {
        "id": "3N3nR3Vhetdv"
      },
      "source": [
        "# Test functions"
      ]
    },
    {
      "cell_type": "code",
      "metadata": {
        "id": "cL7m20Wh4Zgk"
      },
      "source": [
        "class Rastrigin:\n",
        "    def __init__(self, num_dims):\n",
        "        self.num_dims=num_dims\n",
        "        self.min_x=np.zeros(num_dims)\n",
        "        self.min_y=0\n",
        "        self.bounds=[-5.12,5.12]\n",
        "    def eval(self,x):    \n",
        "        A=5\n",
        "        return A*self.num_dims + (x**2 - A * np.cos(2 * np.pi * x)).sum(axis=1)\n",
        "class Schwefel:\n",
        "    def __init__(self, num_dims):\n",
        "        self.num_dims=num_dims\n",
        "        self.min_x=np.ones(num_dims)*420.9687\n",
        "        self.min_y=0\n",
        "        self.bounds=[-500,500]\n",
        "    def eval(self,x):    \n",
        "        return 418.92829*self.num_dims - (x * np.sin(np.abs(x)**0.5)).sum(axis=1)\n",
        "class Rosenbrock:\n",
        "    def __init__(self, num_dims):\n",
        "        self.num_dims=num_dims\n",
        "        self.min_x=np.ones(num_dims)\n",
        "        self.min_y=0\n",
        "        self.bounds=[-2.048, 2.048]\n",
        "        \n",
        "    def eval(self,x):\n",
        "        x_unshift=x[:,:-1]\n",
        "        x_shift=x[:,1:]    \n",
        "        return (100*(x_shift-x_unshift**2)**2 + (x_unshift-1)**2).sum(axis=1) "
      ],
      "execution_count": null,
      "outputs": []
    },
    {
      "cell_type": "code",
      "metadata": {
        "id": "SD2Qszrz-dZr"
      },
      "source": [
        "def test_function(num_dims=5, proxy_func=Rastrigin, num_iter=400, num_first_guess=100, max_depth_model=10, splitting='random', min_samples_leaf_model=1):\n",
        "    np.random.seed(0)\n",
        "    proxy=proxy_func(num_dims)\n",
        "    num_iterations=num_iter\n",
        "    num_first_guesses=num_first_guess\n",
        "    bound_mid=(proxy.bounds[0]+proxy.bounds[1])/2\n",
        "    bound_size=proxy.bounds[1]-proxy.bounds[0]\n",
        "    normalize_to_bounds=lambda x:(x-0.5+bound_mid)*bound_size\n",
        "\n",
        "    first_guesses=normalize_to_bounds(np.random.rand(num_first_guesses, num_dims))\n",
        "    first_results=proxy.eval(first_guesses)\n",
        "\n",
        "    df=pd.DataFrame({\"guesses\":[first_guesses[i] for i in range(first_guesses.shape[0])],\n",
        "                    \"results\":first_results})\n",
        "\n",
        "    c=LinearConstraint(np.eye(num_dims), proxy.bounds[0]*np.ones(num_dims), proxy.bounds[1]*np.ones(num_dims))\n",
        "    training_results=df.sort_values(\"results\").iloc[0].to_frame().T\n",
        "    model = DecisionTreeRegressor(max_depth=max_depth_model, splitter=splitting, min_samples_leaf=min_samples_leaf_model)\n",
        "\n",
        "    for i in range (num_iterations):\n",
        "        model.fit(np.vstack(df[\"guesses\"]), np.vstack(df[\"results\"] ))\n",
        "        a=lambda x: model.predict(x[np.newaxis,...])   \n",
        "        start_point=normalize_to_bounds(np.random.rand(num_dims))\n",
        "        guess=minimize(a, start_point,constraints=c).x[np.newaxis,...]\n",
        "        result=proxy.eval(guess)\n",
        "        temp=pd.Series({\"guesses\":np.squeeze(guess),\n",
        "                    \"results\":np.squeeze(result),\n",
        "                    })\n",
        "        df=df.append(temp, ignore_index=True)\n",
        "        temp_training_results=df.sort_values(\"results\").iloc[0].to_frame().T\n",
        "        temp_training_results[\"guess_of_that_iter\"]=[np.squeeze(guess)]\n",
        "        temp_training_results[\"start_point\"]=[np.squeeze(start_point)]\n",
        "        temp_training_results[\"start_point\"]=[np.squeeze(start_point)]\n",
        "        temp_training_results[\"tree_of_that_iter\"]=[np.squeeze(model.tree_)]\n",
        "\n",
        "        training_results=training_results.append(temp_training_results , ignore_index=True)\n",
        "\n",
        "    plt.plot(training_results[\"results\"][1:])"
      ],
      "execution_count": null,
      "outputs": []
    },
    {
      "cell_type": "code",
      "metadata": {
        "colab": {
          "base_uri": "https://localhost:8080/",
          "height": 265
        },
        "id": "CBKcvosW-dU0",
        "outputId": "8565dc24-63b9-4c92-9fa4-ab2c88bea263"
      },
      "source": [
        "test_function(num_dims=5, proxy_func=Schwefel, num_iter=400, num_first_guess=100, max_depth_model=10, splitting='random', min_samples_leaf_model=1)"
      ],
      "execution_count": null,
      "outputs": [
        {
          "output_type": "display_data",
          "data": {
            "image/png": "[encoded data removed]",
            "text/plain": [
              "<Figure size 432x288 with 1 Axes>"
            ]
          },
          "metadata": {
            "needs_background": "light"
          }
        }
      ]
    },
    {
      "cell_type": "code",
      "metadata": {
        "id": "RyL1pYMvWTmd",
        "colab": {
          "base_uri": "https://localhost:8080/",
          "height": 265
        },
        "outputId": "d104eaab-54e3-4b54-fc8c-32f276ff379d"
      },
      "source": [
        "test_function(num_dims=5, proxy_func=Rosenbrock, num_iter=400, num_first_guess=100, max_depth_model=10, splitting='random', min_samples_leaf_model=1)"
      ],
      "execution_count": null,
      "outputs": [
        {
          "output_type": "display_data",
          "data": {
            "image/png": "[encoded data removed]",
            "text/plain": [
              "<Figure size 432x288 with 1 Axes>"
            ]
          },
          "metadata": {
            "needs_background": "light"
          }
        }
      ]
    },
    {
      "cell_type": "code",
      "metadata": {
        "colab": {
          "base_uri": "https://localhost:8080/",
          "height": 265
        },
        "id": "pZveUlAe_bRL",
        "outputId": "9d964681-7711-4d9a-8606-33a09f63063e"
      },
      "source": [
        "test_function(num_dims=5, proxy_func=Rastrigin, num_iter=400, num_first_guess=100, max_depth_model=10, splitting='random', min_samples_leaf_model=1)"
      ],
      "execution_count": null,
      "outputs": [
        {
          "output_type": "display_data",
          "data": {
            "image/png": "[encoded data removed]",
            "text/plain": [
              "<Figure size 432x288 with 1 Axes>"
            ]
          },
          "metadata": {
            "needs_background": "light"
          }
        }
      ]
    },
    {
      "cell_type": "markdown",
      "metadata": {
        "id": "SsWS3DbLnzig"
      },
      "source": [
        "y = minimum point that we found that evaluated on test functions"
      ]
    },
    {
      "cell_type": "markdown",
      "metadata": {
        "id": "nESeaEFpoZEG"
      },
      "source": [
        "x = number of iterations"
      ]
    },
    {
      "cell_type": "code",
      "metadata": {
        "id": "tWv7O3S0hoR4"
      },
      "source": [
        "class Rastrigin:\n",
        "    def __init__(self, num_dims):\n",
        "        self.num_dims=num_dims\n",
        "        self.min_x=np.zeros(num_dims)\n",
        "        self.min_y=0\n",
        "        self.bounds=[-5.12,5.12]\n",
        "    def eval(self,x):    \n",
        "        A=10\n",
        "        return A*self.num_dims + (x**2 - A * np.cos(2 * np.pi * x)).sum(axis=1)\n",
        "\n",
        "class Schwefel:\n",
        "    def __init__(self, num_dims):\n",
        "        self.num_dims=num_dims\n",
        "        self.min_x=np.ones(num_dims)*420.9687\n",
        "        self.min_y=0\n",
        "        self.bounds=[-500,500]\n",
        "    def eval(self,x):    \n",
        "        return 418.92829*self.num_dims - (x * np.sin(np.abs(x)**0.5)).sum(axis=1)\n",
        "class Rosenbrock:\n",
        "    def __init__(self, num_dims):\n",
        "        self.num_dims=num_dims\n",
        "        self.min_x=np.ones(num_dims)\n",
        "        self.min_y=0\n",
        "        self.bounds=[-2.048,2.048]\n",
        "        \n",
        "    def eval(self,x):\n",
        "        x_unshift=x[:,:-1]\n",
        "        x_shift=x[:,1:]    \n",
        "        return (100*(x_shift-x_unshift**2)**2 + (x_unshift-1)**2).sum(axis=1) "
      ],
      "execution_count": null,
      "outputs": []
    },
    {
      "cell_type": "code",
      "metadata": {
        "id": "E2didjABhpBz"
      },
      "source": [
        "num_dims=5\n",
        "num_iterations=400\n",
        "num_first_guesses=100\n",
        "seeds=[0,42,69]\n",
        "proxies=[Rastrigin(num_dims),Schwefel(num_dims), Rosenbrock(num_dims)]\n",
        "\n",
        "dfs, all_training_results =[],[]\n",
        "for seed in seeds:\n",
        "  for proxy in proxies:\n",
        "        \n",
        "    np.random.seed(seed)\n",
        "\n",
        "    bound_mid=(proxy.bounds[0]+proxy.bounds[1])/2\n",
        "    bound_size=proxy.bounds[1]-proxy.bounds[0]\n",
        "    normalize_to_bounds=lambda x:(x-0.5+bound_mid)*bound_size\n",
        "\n",
        "    first_guesses=normalize_to_bounds(np.random.rand(num_first_guesses, num_dims))\n",
        "    first_results=proxy.eval(first_guesses)\n",
        "\n",
        "    df=pd.DataFrame({\"guesses\":[first_guesses[i] for i in range(first_guesses.shape[0])],\n",
        "                    \"results\":first_results})\n",
        "\n",
        "\n",
        "    c=LinearConstraint(np.eye(num_dims), proxy.bounds[0]*np.ones(num_dims), proxy.bounds[1]*np.ones(num_dims))\n",
        "    training_results=df.sort_values(\"results\").iloc[0].to_frame().T\n",
        "    model = DecisionTreeRegressor(max_depth=10, splitter='random', min_samples_leaf=2)\n",
        "\n",
        "    for i in range (num_iterations):\n",
        "        model.fit(np.vstack(df[\"guesses\"]), np.vstack(df[\"results\"] ))\n",
        "        \n",
        "        a=lambda x: model.predict(x[np.newaxis,...])   \n",
        "\n",
        "        start_point=normalize_to_bounds(np.random.rand(num_dims))\n",
        "\n",
        "        guess=minimize(a, start_point,constraints=c).x[np.newaxis,...]\n",
        "        result=proxy.eval(guess)\n",
        "        temp=pd.Series({\"guesses\":np.squeeze(guess),\n",
        "                    \"results\":np.squeeze(result),\n",
        "                    })\n",
        "        df=df.append(temp, ignore_index=True)\n",
        "        temp_training_results=df.sort_values(\"results\").iloc[0].to_frame().T\n",
        "        temp_training_results[\"guess_of_that_iter\"]=[np.squeeze(guess)]\n",
        "        temp_training_results[\"start_point\"]=[np.squeeze(start_point)]\n",
        "        temp_training_results[\"start_point\"]=[np.squeeze(start_point)]\n",
        "        temp_training_results[\"tree_of_that_iter\"]=[np.squeeze(model.tree_)]\n",
        "\n",
        "        training_results=training_results.append(temp_training_results , ignore_index=True)\n",
        "\n",
        "    # plt.plot(training_results[\"results\"][1:])\n",
        "    # plt.show()\n",
        "    dfs.append(df)\n",
        "    all_training_results.append(training_results)"
      ],
      "execution_count": null,
      "outputs": []
    },
    {
      "cell_type": "code",
      "metadata": {
        "colab": {
          "base_uri": "https://localhost:8080/",
          "height": 850
        },
        "id": "jZmmqvHYhsZX",
        "outputId": "716e0f9d-965f-4135-d63c-260cb377b8d6"
      },
      "source": [
        "plt.title(\"Random Forest Schwefel\")\n",
        "plt.plot(all_training_results[1][\"results\"])\n",
        "plt.plot(all_training_results[4][\"results\"])\n",
        "plt.plot(all_training_results[7][\"results\"])\n",
        "plt.xlabel(\"Iteration\")\n",
        "plt.ylabel(\"Minumum Value\")\n",
        "\n",
        "plt.show()\n",
        "plt.title(\"Random Forest Rastrigin\")\n",
        "plt.plot(all_training_results[0][\"results\"])\n",
        "plt.plot(all_training_results[3][\"results\"])\n",
        "plt.plot(all_training_results[6][\"results\"])\n",
        "plt.xlabel(\"Iteration\")\n",
        "plt.ylabel(\"Minumum Value\")\n",
        "plt.show()\n",
        "\n",
        "plt.title(\"Random Forest Rosenbrock\")\n",
        "plt.plot(all_training_results[2][\"results\"])\n",
        "plt.plot(all_training_results[5][\"results\"])\n",
        "plt.plot(all_training_results[8][\"results\"])\n",
        "plt.xlabel(\"Iteration\")\n",
        "plt.ylabel(\"Minumum Value\")\n",
        "plt.show()"
      ],
      "execution_count": null,
      "outputs": [
        {
          "output_type": "display_data",
          "data": {
            "image/png": "[encoded data removed]",
            "text/plain": [
              "<Figure size 432x288 with 1 Axes>"
            ]
          },
          "metadata": {
            "needs_background": "light"
          }
        },
        {
          "output_type": "display_data",
          "data": {
            "image/png": "[encoded data removed]",
            "text/plain": [
              "<Figure size 432x288 with 1 Axes>"
            ]
          },
          "metadata": {
            "needs_background": "light"
          }
        },
        {
          "output_type": "display_data",
          "data": {
            "image/png": "[encoded data removed]",
            "text/plain": [
              "<Figure size 432x288 with 1 Axes>"
            ]
          },
          "metadata": {
            "needs_background": "light"
          }
        }
      ]
    },
    {
      "cell_type": "code",
      "metadata": {
        "colab": {
          "base_uri": "https://localhost:8080/"
        },
        "id": "5769FpcihvUl",
        "outputId": "e5063566-ef57-4d99-aed3-857870703620"
      },
      "source": [
        "count=0\n",
        "for i in (0,3,6):\n",
        "  count+=all_training_results[i][\"results\"].iloc[-1]\n",
        "print(count/3)\n",
        "\n",
        "count=0\n",
        "for i in  (1,4,7):\n",
        "  count+=all_training_results[i][\"results\"].iloc[-1]\n",
        "print(count/3)\n",
        "\n",
        "plt.show()\n",
        "count=0\n",
        "\n",
        "for i in  (2,5,8):\n",
        "  count+=all_training_results[i][\"results\"].iloc[-1]\n",
        "  # print(all_training_results[i][\"results\"].iloc[-1])\n",
        "print(count/3)"
      ],
      "execution_count": null,
      "outputs": [
        {
          "output_type": "stream",
          "name": "stdout",
          "text": [
            "30.337296415733203\n",
            "879.6309091399215\n",
            "43.873216346643865\n"
          ]
        }
      ]
    }
  ]
}